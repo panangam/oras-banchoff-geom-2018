{
 "cells": [
  {
   "cell_type": "code",
   "execution_count": 1,
   "metadata": {},
   "outputs": [
    {
     "name": "stdout",
     "output_type": "stream",
     "text": [
      "32\n"
     ]
    }
   ],
   "source": [
    "# hypercube\n",
    "\n",
    "class Manifold3():\n",
    "    vertices = []\n",
    "    edges = []\n",
    "\n",
    "vert = [vector(v) for v in [\n",
    "    (1,1,1,1),\n",
    "    (1,1,1,-1),\n",
    "    (1,1,-1,1),\n",
    "    (1,1,-1,-1),\n",
    "    (1,-1,1,1),\n",
    "    (1,-1,1,-1),\n",
    "    (1,-1,-1,1),\n",
    "    (1,-1,-1,-1),\n",
    "    \n",
    "    (-1,1,1,1),\n",
    "    (-1,1,1,-1),\n",
    "    (-1,1,-1,1),\n",
    "    (-1,1,-1,-1),\n",
    "    (-1,-1,1,1),\n",
    "    (-1,-1,1,-1),\n",
    "    (-1,-1,-1,1),\n",
    "    (-1,-1,-1,-1),\n",
    "]]\n",
    "\n",
    "edges = [(i,j) for i in range(16) for j in range(i) if (i.__xor__(j)) in [1,2,4,8]]\n",
    "\n",
    "hypercube = Manifold3()\n",
    "hypercube.vertices = vert\n",
    "hypercube.edges = edges\n",
    "\n",
    "print len(edges)"
   ]
  },
  {
   "cell_type": "code",
   "execution_count": 2,
   "metadata": {},
   "outputs": [],
   "source": [
    "# x+y+z+w=L\n",
    "\n",
    "def get_cross_section(L):\n",
    "    v_mid_list = []\n",
    "    cross_edge_list = []\n",
    "\n",
    "    for e in hypercube.edges:\n",
    "        v0 = hypercube.vertices[e[0]]\n",
    "        v1 = hypercube.vertices[e[1]]\n",
    "\n",
    "        s0 = sum(v0)\n",
    "        s1 = sum(v1)\n",
    "\n",
    "        if s0==L and s1==L:\n",
    "            v_mid_list.append(v0)\n",
    "            v_mid_list.append(v1)\n",
    "\n",
    "        elif max(s0,s1) >= L and min(s0,s1) <= L:\n",
    "            c = (L-s1)/(s0-s1)\n",
    "            v_mid = c*v0 + (1-c)*v1\n",
    "            v_mid_list.append(v_mid)\n",
    "            \n",
    "    # get all connected edges - check if vertices lie on the same face\n",
    "    for i in range(len(v_mid_list)):\n",
    "        for j in range(i):\n",
    "            #print(v_mid_list[i], v_mid_list[j])\n",
    "            matches=0\n",
    "            for tup in zip(v_mid_list[i], v_mid_list[j]):\n",
    "                #print(tup)\n",
    "                if tup[0]==tup[1] and (tup[0]==1 or tup[0]==-1):\n",
    "                    matches += 1\n",
    "            if matches >= 2:\n",
    "                cross_edge_list.append((i,j))\n",
    "\n",
    "\n",
    "    b0 = vector((1,1,1,1))/2 # normal vector\n",
    "    b1 = vector((-1,-1,1,1))/2\n",
    "    b2 = vector((-1,1,-1,1))/2\n",
    "    b3 = vector((-1,1,1,-1))/2\n",
    "\n",
    "    intercept = b0*L/2\n",
    "\n",
    "    v3 = [vector([(v-intercept)*b1, (v-intercept)*b2, (v-intercept)*b3]) for v in v_mid_list]\n",
    "    points3 = [point3d(v, size=50) for v in v3]\n",
    "    lines3 = [line3d([v3[e[0]], v3[e[1]]], color='black') for e in cross_edge_list]\n",
    "    \n",
    "    # invisible plot to define the frame size\n",
    "    var('x,y,z')\n",
    "    frame_limit_plot = implicit_plot3d(x, (x,-2,2), (y,-2,2), (z,-2,2), opacity=0, plot_points=2)\n",
    "    \n",
    "    plots = frame_limit_plot + sum(points3) + sum(lines3)\n",
    "    plots = plots.rotate((0.3,0.5,1), 2)\n",
    "\n",
    "    show(plots, viewer='threejs', frame=False)"
   ]
  },
  {
   "cell_type": "code",
   "execution_count": 4,
   "metadata": {},
   "outputs": [
    {
     "data": {
      "application/vnd.jupyter.widget-view+json": {
       "model_id": "7839ab5bf19b4dc89b8275b0e4e42fe8",
       "version_major": 2,
       "version_minor": 0
      },
      "text/plain": [
       "SW50ZXJhY3RpdmUgZnVuY3Rpb24gPGZ1bmN0aW9uIGludGVyYWN0aW9uIGF0IDB4NmZmZmUyODQ5YjA+IHdpdGggMSB3aWRnZXQKICBMOiBUcmFuc2Zvcm1GbG9hdFNsaWRlcih2YWx1ZT0wLjDigKY=\n"
      ]
     },
     "metadata": {},
     "output_type": "display_data"
    }
   ],
   "source": [
    "@interact\n",
    "def interaction(L=slider(-5,5,step_size=0.5)):\n",
    "    get_cross_section(L)"
   ]
  }
 ],
 "metadata": {
  "kernelspec": {
   "display_name": "SageMath 8.3",
   "language": "",
   "name": "sagemath"
  },
  "language_info": {
   "codemirror_mode": {
    "name": "ipython",
    "version": 2
   },
   "file_extension": ".py",
   "mimetype": "text/x-python",
   "name": "python",
   "nbconvert_exporter": "python",
   "pygments_lexer": "ipython2",
   "version": "2.7.15"
  }
 },
 "nbformat": 4,
 "nbformat_minor": 2
}
