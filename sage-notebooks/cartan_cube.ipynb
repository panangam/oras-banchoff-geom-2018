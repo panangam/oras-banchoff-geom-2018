{
 "cells": [
  {
   "cell_type": "code",
   "execution_count": 1,
   "metadata": {},
   "outputs": [],
   "source": [
    "def prism(v, color=None):\n",
    "    plot = line3d([v[i] for i in [0,1,2,0,3,4,1,4,5,2,5,3]], thickness=5, color=color) \\\n",
    "           + polygons3d([[0,2,1],[3,4,5],[0,3,1],[3,4,1],[1,4,2],[4,5,2],[2,5,0],[5,3,0]], v, opacity=1, color=color)\n",
    "    \n",
    "    return plot"
   ]
  },
  {
   "cell_type": "code",
   "execution_count": 2,
   "metadata": {},
   "outputs": [],
   "source": [
    "v14 = vector((1,1,1))\n",
    "v32 = vector((1,1,-1))\n",
    "v15 = vector((1,-1,-1))\n",
    "v62 = vector((1,-1,1))\n",
    "v16 = vector((-1,1,1))\n",
    "v42 = vector((-1,1,-1))\n",
    "v13 = vector((-1,-1,-1))\n",
    "v52 = vector((-1,-1,1))\n",
    "\n",
    "v12 = vector((0,0,0))"
   ]
  },
  {
   "cell_type": "code",
   "execution_count": 3,
   "metadata": {
    "scrolled": false
   },
   "outputs": [
    {
     "data": {
      "application/vnd.jupyter.widget-view+json": {
       "model_id": "c63ebaebdc7343f5b34f91f434588f9b",
       "version_major": 2,
       "version_minor": 0
      },
      "text/plain": [
       "SW50ZXJhY3RpdmUgZnVuY3Rpb24gPGZ1bmN0aW9uIG15cGxvdCBhdCAweDZmZmZlMjg0ZjUwPiB3aXRoIDE1IHdpZGdldHMKICBwcmlzbTE6IENoZWNrYm94KHZhbHVlPVRydWUsIGRlc2NyaXDigKY=\n"
      ]
     },
     "metadata": {},
     "output_type": "display_data"
    }
   ],
   "source": [
    "@interact\n",
    "def myplot(prism1=checkbox(True, label='blue prism 15\\'-42\\'-13\\''),\n",
    "           prism2=checkbox(True, label='blue prism 15\\'-42\\'-32\\''),\n",
    "           prism3=checkbox(True, label='blue prism 42\\'-14\\'-32\\''),\n",
    "           prism4=checkbox(True, label='blue prism 42\\'-14\\'-16\\''),\n",
    "           prism5=checkbox(True, label='blue prism 14\\'-52\\'-16\\''),\n",
    "           prism6=checkbox(True, label='blue prism 14\\'-52\\'-62\\''),\n",
    "           hideBluePrisms=checkbox(False, label='Hide all blue prisms'),\n",
    "           prism7=checkbox(True, label='prism green 1'),\n",
    "           prism8=checkbox(True, label='prism green 2'),\n",
    "           prism9=chechkbox(True, label='prism green 3'),\n",
    "           prism10=checkbox(True, label='prism green 4'),\n",
    "           prism11=checkbox(True, label='prism green 5'),\n",
    "           prism12=checkbox(True, label='prism green 6'),\n",
    "           hideGreenPrisms=checkbox(False, label='Hide all green prisms'),\n",
    "           separation=slider(0,5)\n",
    "          ):\n",
    "    cube = sum([\n",
    "        line3d([v14,v32,v15,v62,v14,v16,v42,v32,v42,v13,v15,v13,v52,v62,v52,v16], color='black', thickness=5),\n",
    "        line3d([v32,v62,v13,v16], color='grey', thickness=5),\n",
    "        line3d([v15,v42,v14,v52], color='darkgrey', thickness=5),\n",
    "        polygons3d([[0,1,2],[0,2,3],[0,3,4]], [v12,v32,v62,v13,v16], color='grey', opacity=0.5),\n",
    "        polygons3d([[0,1,2],[0,2,3],[0,3,4]], [v12,v15,v42,v14,v52], color='darkgrey', opacity=0.5)\n",
    "    ])\n",
    "\n",
    "    labels = sum([text3d(a[0]+'\\u0027', a[1]*1.1)\n",
    "        for a in zip(['14','32','15','62','16','42','13','52'], [v14,v32,v15,v62,v16,v42,v13,v52])\n",
    "    ])\n",
    "\n",
    "    bluePrisms = sum([\n",
    "        prism([v12,v15,v42,v12+v13,v15+v13,v42+v13], color='pink') if prism1 else 0,\n",
    "        prism([v12,v15,v42,v12+v32,v15+v32,v42+v32], color='pink') if prism2 else 0,\n",
    "        prism([v12,v14,v42,v12+v32,v14+v32,v42+v32], color='lightblue') if prism3 else 0,\n",
    "        prism([v12,v14,v42,v12+v16,v14+v16,v42+v16], color='lightblue') if prism4 else 0,\n",
    "        prism([v12,v14,v52,v12+v16,v14+v16,v52+v16], color='lightgreen') if prism5 else 0,\n",
    "        prism([v12,v14,v52,v12+v62,v14+v62,v52+v62], color='lightgreen') if prism6 else 0\n",
    "    ]).translate((0,separation,0)) if not hideBluePrisms else 0\n",
    "\n",
    "    greenPrisms = sum([\n",
    "        prism([v12,v32,v62,v12+v14,v32+v14,v62+v14], color='green') if prism7 else 0,\n",
    "        prism([v12,v32,v62,v12+v15,v32+v15,v62+v15], color='green') if prism8 else 0,\n",
    "        prism([v12,v62,v13,v12+v15,v62+v15,v13+v15], color='blue') if prism9 else 0,\n",
    "        prism([v12,v62,v13,v12+v52,v62+v52,v13+v52], color='blue') if prism10 else 0,\n",
    "        prism([v12,v13,v16,v12+v52,v13+v52,v16+v52], color='red') if prism11 else 0,\n",
    "        prism([v12,v13,v16,v12+v42,v13+v42,v16+v42], color='red') if prism12 else 0\n",
    "    ]).translate((0,-separation,0)) if not hideGreenPrisms else 0\n",
    "\n",
    "    plots = cube + labels + bluePrisms + greenPrisms\n",
    "\n",
    "    show(plots, viewer='threejs', frame=False, aspect_ratio=1)"
   ]
  },
  {
   "cell_type": "code",
   "execution_count": null,
   "metadata": {},
   "outputs": [],
   "source": []
  }
 ],
 "metadata": {
  "kernelspec": {
   "display_name": "SageMath 8.3",
   "language": "",
   "name": "sagemath"
  },
  "language_info": {
   "codemirror_mode": {
    "name": "ipython",
    "version": 2
   },
   "file_extension": ".py",
   "mimetype": "text/x-python",
   "name": "python",
   "nbconvert_exporter": "python",
   "pygments_lexer": "ipython2",
   "version": "2.7.15"
  }
 },
 "nbformat": 4,
 "nbformat_minor": 2
}
